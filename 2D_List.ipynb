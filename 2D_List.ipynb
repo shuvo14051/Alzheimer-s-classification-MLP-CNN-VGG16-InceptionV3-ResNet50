{
  "nbformat": 4,
  "nbformat_minor": 0,
  "metadata": {
    "colab": {
      "provenance": [],
      "authorship_tag": "ABX9TyPrEw05kIZDYop0kTsMszP4",
      "include_colab_link": true
    },
    "kernelspec": {
      "name": "python3",
      "display_name": "Python 3"
    },
    "language_info": {
      "name": "python"
    }
  },
  "cells": [
    {
      "cell_type": "markdown",
      "metadata": {
        "id": "view-in-github",
        "colab_type": "text"
      },
      "source": [
        "<a href=\"https://colab.research.google.com/github/shuvo14051/Alzheimer-s-classification-MLP-CNN-VGG16-InceptionV3-ResNet50/blob/master/2D_List.ipynb\" target=\"_parent\"><img src=\"https://colab.research.google.com/assets/colab-badge.svg\" alt=\"Open In Colab\"/></a>"
      ]
    },
    {
      "cell_type": "code",
      "execution_count": null,
      "metadata": {
        "id": "YcXBlRJiezLR"
      },
      "outputs": [],
      "source": []
    }
  ]
}